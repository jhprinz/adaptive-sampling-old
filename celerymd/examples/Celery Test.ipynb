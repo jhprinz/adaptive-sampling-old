{
 "cells": [
  {
   "cell_type": "code",
   "execution_count": 1,
   "metadata": {
    "collapsed": false
   },
   "outputs": [],
   "source": [
    "import openpathsampling as p\n",
    "from tasks import *\n",
    "import openpathsampling.netcdfplus as npl\n",
    "from uuid import UUID\n",
    "import openpathsampling.engines.openmm as peng\n",
    "import simtk.openmm as mm\n",
    "import simtk.unit as u"
   ]
  },
  {
   "cell_type": "code",
   "execution_count": 2,
   "metadata": {
    "collapsed": false
   },
   "outputs": [],
   "source": [
    "template = peng.snapshot_from_pdb(\n",
    "    \"/Users/jan-hendrikprinz/Studium/git/openpathsampling/examples/data/Alanine_solvated.pdb\")\n",
    "topology = peng.to_openmm_topology(template)\n",
    "\n",
    "# Generated using OpenMM Script Builder\n",
    "# http://builder.openmm.org\n",
    "\n",
    "forcefield = mm.app.ForceField(\n",
    "    'amber96.xml',  # solute FF\n",
    "    'tip3p.xml'     # solvent FF\n",
    ")\n",
    "\n",
    "# OpenMM System\n",
    "system = forcefield.createSystem(\n",
    "    topology,\n",
    "    nonbondedMethod=mm.app.PME,\n",
    "    nonbondedCutoff=1.0*u.nanometers,\n",
    "    constraints=mm.app.HBonds,\n",
    "    ewaldErrorTolerance=0.0005\n",
    ")\n",
    "\n",
    "# OpenMM Integrator\n",
    "integrator = mm.LangevinIntegrator(\n",
    "    300 * u.kelvin,\n",
    "    1.0 / u.picoseconds,\n",
    "    2.0 * u.femtoseconds\n",
    ")\n",
    "integrator.setConstraintTolerance(0.00001)\n",
    "\n",
    "# Engine options\n",
    "options = {\n",
    "    'n_steps_per_frame': 2,\n",
    "    'n_frames_max': 1000\n",
    "}\n",
    "\n",
    "engine = peng.Engine(\n",
    "    template.topology,\n",
    "    system,\n",
    "    integrator,\n",
    "    options=options\n",
    ")\n"
   ]
  },
  {
   "cell_type": "code",
   "execution_count": 3,
   "metadata": {
    "collapsed": false
   },
   "outputs": [],
   "source": [
    "trajs = [generate.delay(engine, template, p.LengthEnsemble(x*10 + 5)) for x in range(20)]"
   ]
  },
  {
   "cell_type": "code",
   "execution_count": 12,
   "metadata": {
    "collapsed": false
   },
   "outputs": [
    {
     "name": "stdout",
     "output_type": "stream",
     "text": [
      "Trajectory[5]\n",
      "Trajectory[15]\n",
      "Trajectory[25]\n",
      "Trajectory[35]\n",
      "Trajectory[45]\n",
      "Trajectory[55]\n",
      "Trajectory[65]\n",
      "Trajectory[75]\n",
      "Trajectory[85]\n",
      "Trajectory[95]\n",
      "Trajectory[105]\n",
      "Trajectory[115]\n",
      "Trajectory[125]\n",
      "Trajectory[135]\n",
      "Trajectory[145]\n",
      "Trajectory[155]\n",
      "Trajectory[165]\n",
      "Trajectory[175]\n",
      "Trajectory[185]\n",
      "Trajectory[195]\n"
     ]
    }
   ],
   "source": [
    "for traj in trajs:\n",
    "    print traj.result"
   ]
  },
  {
   "cell_type": "code",
   "execution_count": 37,
   "metadata": {
    "collapsed": true
   },
   "outputs": [],
   "source": [
    "ff = [traj.result for traj in trajs]"
   ]
  },
  {
   "cell_type": "code",
   "execution_count": 42,
   "metadata": {
    "collapsed": false
   },
   "outputs": [
    {
     "data": {
      "text/plain": [
       "False"
      ]
     },
     "execution_count": 42,
     "metadata": {},
     "output_type": "execute_result"
    }
   ],
   "source": [
    "ff[0][2] == ff[1][1]"
   ]
  },
  {
   "cell_type": "code",
   "execution_count": 19,
   "metadata": {
    "collapsed": false
   },
   "outputs": [
    {
     "name": "stdout",
     "output_type": "stream",
     "text": [
      "CPU times: user 45.9 s, sys: 8.82 s, total: 54.7 s\n",
      "Wall time: 25.7 s\n"
     ]
    },
    {
     "data": {
      "text/plain": [
       "Trajectory[1000]"
      ]
     },
     "execution_count": 19,
     "metadata": {},
     "output_type": "execute_result"
    }
   ],
   "source": [
    "%%time\n",
    "generate(engine, template, p.LengthEnsemble(1000))"
   ]
  },
  {
   "cell_type": "code",
   "execution_count": 20,
   "metadata": {
    "collapsed": false
   },
   "outputs": [
    {
     "name": "stdout",
     "output_type": "stream",
     "text": [
      "CPU times: user 7.58 s, sys: 1.24 s, total: 8.82 s\n",
      "Wall time: 15.5 s\n"
     ]
    }
   ],
   "source": [
    "%%time\n",
    "trajs = [generate.delay(engine, template, p.LengthEnsemble(100)) for x in range(10)]\n",
    "\n",
    "running = True\n",
    "while running:\n",
    "    running = False\n",
    "    for traj in trajs:\n",
    "        if not traj.successful():\n",
    "            running = True"
   ]
  },
  {
   "cell_type": "code",
   "execution_count": null,
   "metadata": {
    "collapsed": true
   },
   "outputs": [],
   "source": []
  }
 ],
 "metadata": {
  "anaconda-cloud": {},
  "kernelspec": {
   "display_name": "Python [default]",
   "language": "python",
   "name": "python2"
  },
  "language_info": {
   "codemirror_mode": {
    "name": "ipython",
    "version": 2
   },
   "file_extension": ".py",
   "mimetype": "text/x-python",
   "name": "python",
   "nbconvert_exporter": "python",
   "pygments_lexer": "ipython2",
   "version": "2.7.12"
  }
 },
 "nbformat": 4,
 "nbformat_minor": 1
}
